{
  "cells": [
    {
      "cell_type": "raw",
      "metadata": {},
      "source": [
        "---\n",
        "title: \"Les distributions\"\n",
        "---"
      ],
      "id": "e262da28"
    },
    {
      "cell_type": "markdown",
      "metadata": {},
      "source": [
        "# Une variable \n",
        "\n",
        "Principaux outils de visualisations: \n",
        "\n",
        "- **Histogrammes**\n",
        "- Report des **densités** sous forme de courbe ou d'aires\n",
        "- **Boxplot**: résumé synthétique d'indicateurs de distributions (quantiles)\n",
        "- **violinplot**: visualisation unifiant boxplot et densités \n",
        "  \n",
        "  \n",
        "## Histogramme  \n",
        "  \n",
        "* Graphique traditionnel \n",
        "* Quantité utilisé sur Y facilement compréhensible: fréquence, pourcentage\n",
        "* Modification des intervalles sur l'axe X\n",
        "\n",
        "* Points de vigilance:   \n",
        "  - Empilement de plusieurs histogrammes peu convaincant. Utiliser de préférences des graphiques combinés type *small multiple*\n",
        "\t- La définition des bornes peut différer d’un logiciel à l’autre, c’est le cas entre Stata R (`ggplot`)\n",
        "\n",
        "* **Commandes Stata**:\n",
        "  * **`histogram`**\n",
        "  * **`tw histogram`** (de préférence). Avec l'option `by` permet de faire des graphiques de type *small multiple*  lorsqu'on souhaite comparer une distribution entre différentes catégories.  \n",
        " \n",
        "  \n",
        "**Exemples**\n"
      ],
      "id": "50471f37"
    },
    {
      "cell_type": "code",
      "metadata": {},
      "source": [
        "tw histogram wage, fc(\"225 50 67%80\") lc(black) lw(*.2) percent\n",
        "\n",
        "* Empilement histogramme: not good\n",
        "\n",
        "local opts  lc(black) lw(*.2) percent \n",
        "tw histogram wage if !south, fc(\"247 208 181%80\")   `opts'      ///\n",
        "|| histogram wage if  south, fc(\"225 50 67%80\")  `opts'         ///\n",
        "|| , legend(order(1 \"Not South\" 2 \"South\") region(color(%0)))\n",
        "\n",
        "\n",
        "local opts  fc(%0) lw(*1) percent \n",
        "tw histogram wage if !south, lc(\"247 208 181%80\")    `opts'     ///\n",
        "|| histogram wage if  south, lc(\"225 50 67%80\")      `opts'     ///\n",
        "|| , legend(order(1 \"Not South\" 2 \"South\") region(color(%0)))\n",
        "\n",
        "\n",
        "* Facette histogramme: good\n",
        "tw histogram wage , fc(\"225 50 67%80\") lc(black) lw(*.2) percent  by(south, note(\" \")) "
      ],
      "id": "eaa901b8",
      "execution_count": null,
      "outputs": []
    },
    {
      "cell_type": "markdown",
      "metadata": {},
      "source": [
        "::: {layout-ncol=2 layout-valign=\"bottom\"}\n"
      ],
      "id": "f9b175fc"
    }
  ],
  "metadata": {
    "kernelspec": {
      "name": "nbstata",
      "language": "stata",
      "display_name": "Stata (nbstata)"
    }
  },
  "nbformat": 4,
  "nbformat_minor": 5
}